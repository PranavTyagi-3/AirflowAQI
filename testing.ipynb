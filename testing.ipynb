{
 "cells": [
  {
   "cell_type": "code",
   "execution_count": 2,
   "metadata": {},
   "outputs": [],
   "source": [
    "from pymongo import MongoClient"
   ]
  },
  {
   "cell_type": "code",
   "execution_count": 3,
   "metadata": {},
   "outputs": [],
   "source": [
    "client = MongoClient('localhost', 27017)\n",
    "db = client['airquality']\n",
    "collection = db['stations']"
   ]
  },
  {
   "cell_type": "code",
   "execution_count": 4,
   "metadata": {},
   "outputs": [],
   "source": [
    "locations = {}"
   ]
  },
  {
   "cell_type": "code",
   "execution_count": 5,
   "metadata": {},
   "outputs": [
    {
     "name": "stdout",
     "output_type": "stream",
     "text": [
      "{'_id': ObjectId('66fbe96705105b2755240a15'), 'lat': 28.710066, 'lon': 77.24622, 'uid': 10121, 'aqi': '127', 'station': {'name': 'Sonia Vihar Water Treatment Plant DJB, Delhi, Delhi, India', 'time': '2024-10-01T19:30:00+09:00'}}\n",
      "{'_id': ObjectId('66fbe96805105b2755240a16'), 'lat': 28.52123, 'lon': 76.37138, 'uid': 12741, 'aqi': '151', 'station': {'name': 'MD University, Rohtak, India', 'time': '2024-10-01T19:30:00+09:00'}}\n",
      "{'_id': ObjectId('66fbe96805105b2755240a17'), 'lat': 28.999264, 'lon': 77.7590354, 'uid': 12432, 'aqi': '107', 'station': {'name': 'Ganga Nagar, Meerut, India', 'time': '2024-10-01T19:30:00+09:00'}}\n",
      "{'_id': ObjectId('66fbe96805105b2755240a18'), 'lat': 28.4275, 'lon': 77.1465, 'uid': 12890, 'aqi': '105', 'station': {'name': 'Teri Gram, Gurugram, India', 'time': '2024-10-01T20:30:00+09:00'}}\n",
      "{'_id': ObjectId('66fbe96805105b2755240a19'), 'lat': 28.194909, 'lon': 76.862296, 'uid': 11848, 'aqi': '75', 'station': {'name': 'RIICO Ind. Area III, Bhiwadi, India', 'time': '2024-10-01T20:30:00+09:00'}}\n",
      "{'_id': ObjectId('66fbe96805105b2755240a1a'), 'lat': 28.531314, 'lon': 77.270686, 'uid': 10116, 'aqi': '122', 'station': {'name': 'DITE Okhla, Delhi, Delhi, India', 'time': '2024-10-01T19:30:00+09:00'}}\n",
      "{'_id': ObjectId('66fbe96805105b2755240a1b'), 'lat': 28.620171, 'lon': 77.287705, 'uid': 10704, 'aqi': '154', 'station': {'name': 'Mother Dairy Plant, Parparganj, Delhi, Delhi, India', 'time': '2024-10-01T14:30:00+09:00'}}\n",
      "{'_id': ObjectId('66fbe96805105b2755240a1c'), 'lat': 28.840739, 'lon': 78.697531, 'uid': 14134, 'aqi': '93', 'station': {'name': 'Eco Herbal Park, Moradabad, India', 'time': '2024-10-01T19:30:00+09:00'}}\n",
      "{'_id': ObjectId('66fbe96805105b2755240a1d'), 'lat': 28.849399, 'lon': 78.742362, 'uid': 14146, 'aqi': '84', 'station': {'name': 'Kashiram Nagar, Moradabad, India', 'time': '2024-10-01T20:30:00+09:00'}}\n",
      "{'_id': ObjectId('66fbe96805105b2755240a1e'), 'lat': 28.63576, 'lon': 77.22445, 'uid': 7024, 'aqi': '114', 'station': {'name': 'New Delhi US Embassy, India (नई दिल्ली अमेरिकी दूतावास)', 'time': '2024-10-01T20:30:00+09:00'}}\n",
      "{'_id': ObjectId('66fbe96805105b2755240a1f'), 'lat': 28.700505, 'lon': 77.165603, 'uid': 10114, 'aqi': '112', 'station': {'name': 'Delhi Institute of Tool Engineering, Wazirpur, Delhi, Delhi, India', 'time': '2024-10-01T19:30:00+09:00'}}\n",
      "{'_id': ObjectId('66fbe96805105b2755240a20'), 'lat': 28.964949, 'lon': 77.278761, 'uid': 14141, 'aqi': '84', 'station': {'name': 'Sardar Patel Inter College, Baghpat, India', 'time': '2024-10-01T19:30:00+09:00'}}\n",
      "{'_id': ObjectId('66fbe96805105b2755240a21'), 'lat': 27.571409, 'lon': 77.655757, 'uid': 13689, 'aqi': '64', 'station': {'name': 'Omex Eternity, Vrindavan, India', 'time': '2024-10-01T20:30:00+09:00'}}\n",
      "{'_id': ObjectId('66fbe96805105b2755240a22'), 'lat': 28.725645, 'lon': 77.749675, 'uid': 11318, 'aqi': '113', 'station': {'name': 'Anand Vihar, Hapur, India', 'time': '2024-10-01T19:30:00+09:00'}}\n",
      "{'_id': ObjectId('66fbe96805105b2755240a23'), 'lat': 28.646233, 'lon': 77.358075, 'uid': 12435, 'aqi': '123', 'station': {'name': 'Indirapuram, Ghaziabad, India', 'time': '2024-10-01T19:30:00+09:00'}}\n",
      "{'_id': ObjectId('66fbe96805105b2755240a24'), 'lat': 28.69572, 'lon': 77.181295, 'uid': 10115, 'aqi': '118', 'station': {'name': 'Satyawati College, Delhi, Delhi, India', 'time': '2024-10-01T20:30:00+09:00'}}\n",
      "{'_id': ObjectId('66fbe96805105b2755240a25'), 'lat': 28.757294, 'lon': 77.278792, 'uid': 12452, 'aqi': '151', 'station': {'name': 'Loni, Ghaziabad, India', 'time': '2024-10-01T19:30:00+09:00'}}\n",
      "{'_id': ObjectId('66fbe96805105b2755240a26'), 'lat': 28.732743, 'lon': 77.118788, 'uid': 10117, 'aqi': '108', 'station': {'name': 'Shaheed Sukhdev College of Business Studies, Rohini, Delhi, Delhi, India', 'time': '2024-10-01T19:30:00+09:00'}}\n",
      "{'_id': ObjectId('66fbe96805105b2755240a27'), 'lat': 28.672114, 'lon': 77.313832, 'uid': 10118, 'aqi': '92', 'station': {'name': 'ITI Shahdra, Jhilmil Industrial Area, Delhi, Delhi, India', 'time': '2024-10-01T19:30:00+09:00'}}\n",
      "{'_id': ObjectId('66fbe96805105b2755240a28'), 'lat': 28.6603346, 'lon': 77.3572563, 'uid': 11856, 'aqi': '114', 'station': {'name': 'Vasundhara, Ghaziabad, India', 'time': '2024-10-01T20:30:00+09:00'}}\n",
      "{'_id': ObjectId('66fbe96805105b2755240a29'), 'lat': 28.9535882, 'lon': 77.7622941, 'uid': 11963, 'aqi': '125', 'station': {'name': 'Jai Bhim Nagar, Meerut, India', 'time': '2024-10-01T19:30:00+09:00'}}\n",
      "{'_id': ObjectId('66fbe96805105b2755240a2a'), 'lat': 28.4227, 'lon': 77.0667, 'uid': 12816, 'aqi': '156', 'station': {'name': 'Sector-51, Gurugram, India', 'time': '2024-10-01T20:30:00+09:00'}}\n",
      "{'_id': ObjectId('66fbe96805105b2755240a2b'), 'lat': 28.376058, 'lon': 77.315741, 'uid': 12813, 'aqi': '152', 'station': {'name': 'Sector 11, Faridabad, India', 'time': '2024-10-01T20:30:00+09:00'}}\n",
      "{'_id': ObjectId('66fbe96805105b2755240a2c'), 'lat': 28.5447608, 'lon': 77.3231257, 'uid': 11863, 'aqi': '90', 'station': {'name': 'Sector - 125, Noida, India', 'time': '2024-10-01T20:30:00+09:00'}}\n",
      "{'_id': ObjectId('66fbe96805105b2755240a2d'), 'lat': 28.4501238, 'lon': 77.0263051, 'uid': 8685, 'aqi': '118', 'station': {'name': 'Vikas Sadan Gurgaon, Gurgaon, India', 'time': '2024-10-01T20:30:00+09:00'}}\n",
      "{'_id': ObjectId('66fbe96805105b2755240a2e'), 'lat': 28.68241, 'lon': 77.030469, 'uid': 10708, 'aqi': '112', 'station': {'name': 'Mundka, Delhi, Delhi, India', 'time': '2024-10-01T20:30:00+09:00'}}\n",
      "{'_id': ObjectId('66fbe96805105b2755240a2f'), 'lat': 28.6701, 'lon': 76.9254, 'uid': 12447, 'aqi': '87', 'station': {'name': 'Arya Nagar, Bahadurgarh, India', 'time': '2024-10-01T20:30:00+09:00'}}\n",
      "{'_id': ObjectId('66fbe96805105b2755240a30'), 'lat': 29.0272, 'lon': 77.0621, 'uid': 11861, 'aqi': '-', 'station': {'name': 'Murthal, Sonipat, India', 'time': '2024-09-25T13:30:00+09:00'}}\n",
      "{'_id': ObjectId('66fbe96805105b2755240a31'), 'lat': 29.06351, 'lon': 77.709723, 'uid': 12430, 'aqi': '123', 'station': {'name': 'Pallavpuram Phase 2, Meerut, India', 'time': '2024-10-01T19:30:00+09:00'}}\n",
      "{'_id': ObjectId('66fbe96805105b2755240a32'), 'lat': 28.3419248, 'lon': 77.319699, 'uid': 12434, 'aqi': '126', 'station': {'name': 'Nathu Colony, Ballabgarh, India', 'time': '2024-10-01T20:30:00+09:00'}}\n",
      "{'_id': ObjectId('66fbe96805105b2755240a33'), 'lat': 28.815691, 'lon': 77.152491, 'uid': 11266, 'aqi': '122', 'station': {'name': 'Alipur, Delhi, Delhi, India', 'time': '2024-10-01T20:30:00+09:00'}}\n",
      "{'_id': ObjectId('66fbe96805105b2755240a34'), 'lat': 28.88528, 'lon': 78.7388, 'uid': 13717, 'aqi': '88', 'station': {'name': 'Employment Office, Moradabad, India', 'time': '2024-10-01T19:30:00+09:00'}}\n",
      "{'_id': ObjectId('66fbe96805105b2755240a35'), 'lat': 28.572714, 'lon': 76.933433, 'uid': 10120, 'aqi': '95', 'station': {'name': 'Bramprakash Ayurvedic Hospital, Najafgarh, Delhi, Delhi, India', 'time': '2024-10-01T19:30:00+09:00'}}\n",
      "{'_id': ObjectId('66fbe96805105b2755240a36'), 'lat': 28.856664, 'lon': 78.772638, 'uid': 13805, 'aqi': '106', 'station': {'name': 'Jigar Colony, Moradabad, India', 'time': '2024-10-01T20:30:00+09:00'}}\n",
      "{'_id': ObjectId('66fbe96805105b2755240a37'), 'lat': 28.4088421, 'lon': 77.3099081, 'uid': 8672, 'aqi': '76', 'station': {'name': 'Sector16A Faridabad, Faridabad, India', 'time': '2024-10-01T20:30:00+09:00'}}\n",
      "{'_id': ObjectId('66fbe96805105b2755240a38'), 'lat': 28.7757959, 'lon': 77.0462514, 'uid': 11267, 'aqi': '163', 'station': {'name': 'Pooth Khurd, Bawana, Delhi, Delhi, India', 'time': '2024-10-01T20:30:00+09:00'}}\n",
      "{'_id': ObjectId('66fbe96805105b2755240a39'), 'lat': 28.582846, 'lon': 77.234366, 'uid': 10705, 'aqi': '89', 'station': {'name': 'Jawaharlal Nehru Stadium, Delhi, Delhi, India', 'time': '2024-10-01T20:30:00+09:00'}}\n",
      "{'_id': ObjectId('66fbe96805105b2755240a3a'), 'lat': 28.636997, 'lon': 77.172248, 'uid': 10124, 'aqi': '112', 'station': {'name': 'Pusa, Delhi, Delhi, India', 'time': '2024-10-01T20:30:00+09:00'}}\n",
      "{'_id': ObjectId('66fbe96805105b2755240a3b'), 'lat': 28.6683, 'lon': 77.1167, 'uid': 2555, 'aqi': '124', 'station': {'name': 'Punjabi Bagh, Delhi, Delhi, India', 'time': '2024-10-01T19:30:00+09:00'}}\n",
      "{'_id': ObjectId('66fbe96805105b2755240a3c'), 'lat': 27.554793, 'lon': 76.611536, 'uid': 11866, 'aqi': '84', 'station': {'name': 'Moti Doongri, Alwar, India', 'time': '2024-10-01T20:30:00+09:00'}}\n",
      "{'_id': ObjectId('66fbe96805105b2755240a3d'), 'lat': 27.9002, 'lon': 76.9938, 'uid': 11920, 'aqi': '63', 'station': {'name': 'General Hospital, Mandikhera, India', 'time': '2024-10-01T19:30:00+09:00'}}\n",
      "{'_id': ObjectId('66fbe96805105b2755240a3e'), 'lat': 28.6245479, 'lon': 77.3577104, 'uid': 11865, 'aqi': '80', 'station': {'name': 'Sector - 62, Noida, India', 'time': '2024-10-01T20:30:00+09:00'}}\n",
      "{'_id': ObjectId('66fbe96805105b2755240a3f'), 'lat': 28.557054, 'lon': 77.453663, 'uid': 12463, 'aqi': '134', 'station': {'name': 'Knowledge Park - V, Greater Noida, India', 'time': '2024-10-01T19:30:00+09:00'}}\n",
      "{'_id': ObjectId('66fbe96805105b2755240a40'), 'lat': 28.56923, 'lon': 77.393848, 'uid': 12465, 'aqi': '130', 'station': {'name': 'Sector-116, Noida, India', 'time': '2024-10-01T19:30:00+09:00'}}\n",
      "{'_id': ObjectId('66fbe96805105b2755240a41'), 'lat': 28.806223, 'lon': 76.141105, 'uid': 11849, 'aqi': '129', 'station': {'name': 'H.B. Colony, Bhiwani, India', 'time': '2024-10-01T20:30:00+09:00'}}\n",
      "{'_id': ObjectId('66fbe96805105b2755240a42'), 'lat': 27.23711, 'lon': 78.01936, 'uid': 13754, 'aqi': '87', 'station': {'name': 'Manoharpur, Agra, India', 'time': '2024-10-01T20:30:00+09:00'}}\n",
      "{'_id': ObjectId('66fbe96805105b2755240a43'), 'lat': 28.060249, 'lon': 76.113115, 'uid': 11846, 'aqi': '87', 'station': {'name': 'Shastri Nagar, Narnaul, India', 'time': '2024-10-01T20:30:00+09:00'}}\n",
      "{'_id': ObjectId('66fbe96805105b2755240a44'), 'lat': 28.47272, 'lon': 77.482, 'uid': 11278, 'aqi': '128', 'station': {'name': 'Knowledge Park - III, Greater Noida, India', 'time': '2024-10-01T19:30:00+09:00'}}\n",
      "{'_id': ObjectId('66fbe96805105b2755240a45'), 'lat': 28.83526, 'lon': 78.7446, 'uid': 13806, 'aqi': '92', 'station': {'name': 'Buddhi Vihar, Moradabad, India', 'time': '2024-10-01T20:30:00+09:00'}}\n",
      "{'_id': ObjectId('66fbe96805105b2755240a46'), 'lat': 28.499727, 'lon': 77.267095, 'uid': 10110, 'aqi': '155', 'station': {'name': 'Dr. Karni Singh Shooting Range, Delhi, Delhi, India', 'time': '2024-10-01T18:30:00+09:00'}}\n",
      "{'_id': ObjectId('66fbe96805105b2755240a47'), 'lat': 28.1485564, 'lon': 77.3320667, 'uid': 12449, 'aqi': '98', 'station': {'name': 'Shyam Nagar, Palwal, India', 'time': '2024-10-01T19:30:00+09:00'}}\n",
      "{'_id': ObjectId('66fbe96805105b2755240a48'), 'lat': 28.39072, 'lon': 77.30059, 'uid': 12889, 'aqi': '98', 'station': {'name': 'New Industrial Town, Faridabad, India', 'time': '2024-10-01T20:30:00+09:00'}}\n",
      "{'_id': ObjectId('66fbe96805105b2755240a49'), 'lat': 28.5648, 'lon': 77.1744, 'uid': 2556, 'aqi': '157', 'station': {'name': 'R.K. Puram, Delhi, Delhi, India', 'time': '2024-10-01T19:30:00+09:00'}}\n",
      "{'_id': ObjectId('66fbe96805105b2755240a4a'), 'lat': 28.6341, 'lon': 77.2005, 'uid': 2554, 'aqi': '152', 'station': {'name': 'Mandir Marg, Delhi, Delhi, India', 'time': '2024-10-01T20:30:00+09:00'}}\n",
      "{'_id': ObjectId('66fbe96805105b2755240a4b'), 'lat': 28.802625, 'lon': 78.753728, 'uid': 14143, 'aqi': '74', 'station': {'name': 'Transport Nagar, Moradabad, India', 'time': '2024-10-01T20:30:00+09:00'}}\n",
      "{'_id': ObjectId('66fbe96805105b2755240a4c'), 'lat': 28.528344, 'lon': 77.189304, 'uid': 10707, 'aqi': '127', 'station': {'name': 'Sri Auribindo Marg, Delhi, Delhi, India', 'time': '2024-10-01T20:30:00+09:00'}}\n",
      "{'_id': ObjectId('66fbe96805105b2755240a4d'), 'lat': 28.6508, 'lon': 77.3152, 'uid': 2553, 'aqi': '317', 'station': {'name': 'Anand Vihar, Delhi, Delhi, India', 'time': '2024-10-01T20:30:00+09:00'}}\n",
      "{'_id': ObjectId('66fbe96805105b2755240a4e'), 'lat': 28.593883, 'lon': 76.270653, 'uid': 12922, 'aqi': '154', 'station': {'name': 'Mini Secretariat, Charkhi Dadri, India', 'time': '2024-10-01T20:30:00+09:00'}}\n",
      "{'_id': ObjectId('66fbe96805105b2755240a4f'), 'lat': 28.406963, 'lon': 77.849831, 'uid': 11302, 'aqi': '94', 'station': {'name': 'Yamunapuram, Bulandshahr, India', 'time': '2024-10-01T20:30:00+09:00'}}\n",
      "{'_id': ObjectId('66fbe96805105b2755240a50'), 'lat': 28.2348927, 'lon': 77.8683002, 'uid': 14153, 'aqi': '106', 'station': {'name': 'Kalindi Kunj, Khurja, India', 'time': '2024-10-01T20:30:00+09:00'}}\n",
      "{'_id': ObjectId('66fbe96805105b2755240a51'), 'lat': 28.685382, 'lon': 77.453839, 'uid': 11899, 'aqi': '144', 'station': {'name': 'Sanjay Nagar, Ghaziabad, India', 'time': '2024-10-01T20:30:00+09:00'}}\n",
      "{'_id': ObjectId('66fbe96805105b2755240a52'), 'lat': 28.4417, 'lon': 77.3217, 'uid': 12814, 'aqi': '96', 'station': {'name': 'Sector 30, Faridabad, India', 'time': '2024-10-01T20:30:00+09:00'}}\n",
      "{'_id': ObjectId('66fbe96805105b2755240a53'), 'lat': 28.820629, 'lon': 77.101099, 'uid': 10706, 'aqi': '137', 'station': {'name': 'Narela, Delhi, Delhi, India', 'time': '2024-10-01T20:30:00+09:00'}}\n",
      "{'_id': ObjectId('66fbe96805105b2755240a54'), 'lat': 28.31733, 'lon': 76.91603, 'uid': -477625, 'aqi': '67', 'station': {'name': 'NASA GSFC Rutgers Calib. N8', 'time': '2024-10-01T19:00:00+09:00'}}\n",
      "{'_id': ObjectId('66fbe96805105b2755240a55'), 'lat': 28.360699, 'lon': 76.93609, 'uid': 12445, 'aqi': '138', 'station': {'name': 'Sector-2 IMT, Manesar, India', 'time': '2024-10-01T20:30:00+09:00'}}\n",
      "{'_id': ObjectId('66fbe96805105b2755240a56'), 'lat': 28.5898, 'lon': 77.3101, 'uid': 12466, 'aqi': '99', 'station': {'name': 'Sector-1, Noida, India', 'time': '2024-10-01T20:30:00+09:00'}}\n",
      "{'_id': ObjectId('66fbe96805105b2755240a57'), 'lat': 28.566827, 'lon': 77.251418, 'uid': 10112, 'aqi': '89', 'station': {'name': 'PGDAV College, Sriniwaspuri, Delhi, Delhi, India', 'time': '2024-10-01T20:30:00+09:00'}}\n",
      "{'_id': ObjectId('66fbe96805105b2755240a58'), 'lat': 28.576909, 'lon': 77.075898, 'uid': 10119, 'aqi': '137', 'station': {'name': 'National Institute of Malaria Research, Sector 8, Dwarka, Delhi, Delhi, India', 'time': '2024-10-01T20:30:00+09:00'}}\n",
      "{'_id': ObjectId('66fbe96805105b2755240a59'), 'lat': 28.733016, 'lon': 77.17197, 'uid': 10113, 'aqi': '999', 'station': {'name': 'ITI Jahangirpuri, Delhi, Delhi, India', 'time': '2024-10-01T20:30:00+09:00'}}\n",
      "{'_id': ObjectId('66fbe96805105b2755240a5a'), 'lat': 28.2068, 'lon': 76.7997, 'uid': 12446, 'aqi': '65', 'station': {'name': 'Municipal Corporation Office, Dharuhera, India', 'time': '2024-10-01T20:30:00+09:00'}}\n",
      "{'_id': ObjectId('66fbe96805105b2755240a5b'), 'lat': 28.612498, 'lon': 77.237388, 'uid': 10111, 'aqi': '124', 'station': {'name': 'Major Dhyan Chand National Stadium, Delhi, Delhi, India', 'time': '2024-10-01T20:30:00+09:00'}}\n"
     ]
    }
   ],
   "source": [
    "for post in collection.find():\n",
    "    print(post)\n",
    "    locations[post['uid']] = {'lat': post['lat'], 'lng': post['lon']}"
   ]
  },
  {
   "cell_type": "code",
   "execution_count": 28,
   "metadata": {},
   "outputs": [
    {
     "name": "stdout",
     "output_type": "stream",
     "text": [
      "10121\n",
      "[]\n",
      "Removed\n"
     ]
    }
   ],
   "source": [
    "for key in locations:\n",
    "    key=str(key)\n",
    "    print(key)\n",
    "    pipeline = [\n",
    "        {\"$group\": {\n",
    "            \"_id\": \"time\",  # Group by 'time'\n",
    "            \"ids\": {\"$push\": \"$_id\"},\n",
    "            \"count\": {\"$sum\": 1}\n",
    "        }},\n",
    "        {\"$match\": {\n",
    "            \"count\": {\"$gt\": 1}  # Find only groups with more than one document\n",
    "        }}\n",
    "    ]\n",
    "    duplicate_groups = list(collection.aggregate(pipeline))\n",
    "    print(duplicate_groups)\n",
    "    for group in duplicate_groups:\n",
    "        ids_to_keep = group['ids'][0]  # Keep the first document's _id\n",
    "        ids_to_delete = group['ids'][1:]  # Delete the rest\n",
    "        collection.delete_many({\"_id\": {\"$in\": ids_to_delete}})\n",
    "    print(\"Removed\")\n",
    "    break"
   ]
  },
  {
   "cell_type": "code",
   "execution_count": null,
   "metadata": {},
   "outputs": [],
   "source": [
    "# Remove Duplicates\n",
    "for key in locations:\n",
    "    key=str(key)\n",
    "    print(key)\n",
    "    s = set()\n",
    "    for doc in db[key].find():\n",
    "        if doc['time'] in s:\n",
    "            db[key].delete_one({'_id': doc['_id']})\n",
    "            print(\"Removed from \", key)\n",
    "        else:\n",
    "            s.add(doc['time'])\n",
    "    \n",
    "    "
   ]
  },
  {
   "cell_type": "code",
   "execution_count": 32,
   "metadata": {},
   "outputs": [
    {
     "name": "stdout",
     "output_type": "stream",
     "text": [
      "Index created for  10121\n",
      "Index created for  12741\n",
      "Index created for  12432\n",
      "Index created for  12890\n",
      "Index created for  11848\n",
      "Index created for  10116\n",
      "Index created for  10704\n",
      "Index created for  14134\n",
      "Index created for  14146\n",
      "Index created for  7024\n",
      "Index created for  10114\n",
      "Index created for  14141\n",
      "Index created for  13689\n",
      "Index created for  11318\n",
      "Index created for  12435\n",
      "Index created for  10115\n",
      "Index created for  12452\n",
      "Index created for  10117\n",
      "Index created for  10118\n",
      "Index created for  11856\n",
      "Index created for  11963\n",
      "Index created for  12816\n",
      "Index created for  12813\n",
      "Index created for  11863\n",
      "Index created for  8685\n",
      "Index created for  10708\n",
      "Index created for  12447\n",
      "Index created for  11861\n",
      "Index created for  12430\n",
      "Index created for  12434\n",
      "Index created for  11266\n",
      "Index created for  13717\n",
      "Index created for  10120\n",
      "Index created for  13805\n",
      "Index created for  8672\n",
      "Index created for  11267\n",
      "Index created for  10705\n",
      "Index created for  10124\n",
      "Index created for  2555\n",
      "Index created for  11866\n",
      "Index created for  11920\n",
      "Index created for  11865\n",
      "Index created for  12463\n",
      "Index created for  12465\n",
      "Index created for  11849\n",
      "Index created for  13754\n",
      "Index created for  11846\n",
      "Index created for  11278\n",
      "Index created for  13806\n",
      "Index created for  10110\n",
      "Index created for  12449\n",
      "Index created for  12889\n",
      "Index created for  2556\n",
      "Index created for  2554\n",
      "Index created for  14143\n",
      "Index created for  10707\n",
      "Index created for  2553\n",
      "Index created for  12922\n",
      "Index created for  11302\n",
      "Index created for  14153\n",
      "Index created for  11899\n",
      "Index created for  12814\n",
      "Index created for  10706\n",
      "Index created for  -477625\n",
      "Index created for  12445\n",
      "Index created for  12466\n",
      "Index created for  10112\n",
      "Index created for  10119\n",
      "Index created for  10113\n",
      "Index created for  12446\n",
      "Index created for  10111\n"
     ]
    }
   ],
   "source": [
    "for key in locations:\n",
    "    db[str(key)].create_index([('time', 1)], unique=True)\n",
    "    print(\"Index created for \", key)"
   ]
  },
  {
   "cell_type": "code",
   "execution_count": 36,
   "metadata": {},
   "outputs": [
    {
     "data": {
      "text/plain": [
       "<pymongo.results.InsertManyResult at 0x14dce594e20>"
      ]
     },
     "execution_count": 36,
     "metadata": {},
     "output_type": "execute_result"
    }
   ],
   "source": [
    "#Creating station collection\n",
    "import json\n",
    "\n",
    "with open('map.json', encoding='utf-8') as f:\n",
    "    data = json.load(f)\n",
    "db['stations'].insert_many(data['data'])\n"
   ]
  },
  {
   "cell_type": "code",
   "execution_count": null,
   "metadata": {},
   "outputs": [],
   "source": []
  }
 ],
 "metadata": {
  "kernelspec": {
   "display_name": "Python 3",
   "language": "python",
   "name": "python3"
  },
  "language_info": {
   "codemirror_mode": {
    "name": "ipython",
    "version": 3
   },
   "file_extension": ".py",
   "mimetype": "text/x-python",
   "name": "python",
   "nbconvert_exporter": "python",
   "pygments_lexer": "ipython3",
   "version": "3.9.0"
  }
 },
 "nbformat": 4,
 "nbformat_minor": 2
}
